{
 "cells": [
  {
   "cell_type": "code",
   "execution_count": 1,
   "metadata": {},
   "outputs": [],
   "source": [
    "from internship_assignment import *\n",
    "%load_ext autoreload\n",
    "%autoreload 2\n",
    "import numpy as np"
   ]
  },
  {
   "cell_type": "code",
   "execution_count": 8,
   "metadata": {},
   "outputs": [
    {
     "data": {
      "text/plain": [
       "(1, 3, 32, 32)"
      ]
     },
     "execution_count": 8,
     "metadata": {},
     "output_type": "execute_result"
    }
   ],
   "source": [
    "image=np.ones((1,3,32,32))\n",
    "image.shape"
   ]
  },
  {
   "cell_type": "code",
   "execution_count": 79,
   "metadata": {
    "collapsed": true
   },
   "outputs": [],
   "source": [
    "def forward_pass(X):\n",
    "    \n",
    "    w_conv1=np.random.randn(4,3,3,3)\n",
    "    b_conv1=np.random.randn(4,)\n",
    "    conv_param={'stride': 2, 'pad':1}\n",
    "\n",
    "    w_fc=np.random.randn(1024,10)\n",
    "    b=np.zeros((10))\n",
    "    \n",
    "    X,cache_conv1=conv_forward_naive(X, w_conv1, b_conv1, conv_param)\n",
    "\n",
    "    X,cache_relu1=relu_forward(X)\n",
    "    \n",
    "    X=np.reshape(X,(1,16*16*4))\n",
    "\n",
    "    X,cache_fc1=affine_forward(X, w_fc, b)\n",
    "\n",
    "    return X,cache_conv1,cache_relu1,cache_fc1"
   ]
  },
  {
   "cell_type": "code",
   "execution_count": 80,
   "metadata": {},
   "outputs": [
    {
     "data": {
      "text/plain": [
       "(1, 10)"
      ]
     },
     "execution_count": 80,
     "metadata": {},
     "output_type": "execute_result"
    }
   ],
   "source": [
    "X,cache_conv1,cache_relu1,cache_fc1=forward_pass(image)\n",
    "X.shape"
   ]
  },
  {
   "cell_type": "code",
   "execution_count": null,
   "metadata": {
    "collapsed": true
   },
   "outputs": [],
   "source": []
  },
  {
   "cell_type": "code",
   "execution_count": 81,
   "metadata": {},
   "outputs": [],
   "source": [
    "def backward_pass(dout,cache_conv1,cache_relu1,cache_fc1):\n",
    "\n",
    "     dx, dw_fc1, db_fc1=affine_backward(dout, cache_fc1)\n",
    "     \n",
    "     dx=np.reshape(dx,(1,4,16,16))\n",
    "     \n",
    "     dx=relu_backward(dx, cache_relu1)\n",
    "     \n",
    "     dx, dw, db=conv_backward_naive(dx, cache_conv1)\n",
    "    \n",
    "     return dx\n",
    "    "
   ]
  },
  {
   "cell_type": "code",
   "execution_count": 82,
   "metadata": {},
   "outputs": [
    {
     "data": {
      "text/plain": [
       "(1, 3, 32, 32)"
      ]
     },
     "execution_count": 82,
     "metadata": {},
     "output_type": "execute_result"
    }
   ],
   "source": [
    "dout=np.random.randn(1,10)\n",
    "dx=backward_pass(dout,cache_conv1,cache_relu1,cache_fc1)\n",
    "dx.shape"
   ]
  },
  {
   "cell_type": "code",
   "execution_count": null,
   "metadata": {
    "collapsed": true
   },
   "outputs": [],
   "source": []
  },
  {
   "cell_type": "code",
   "execution_count": null,
   "metadata": {
    "collapsed": true
   },
   "outputs": [],
   "source": []
  },
  {
   "cell_type": "code",
   "execution_count": null,
   "metadata": {
    "collapsed": true
   },
   "outputs": [],
   "source": []
  }
 ],
 "metadata": {
  "kernelspec": {
   "display_name": "Python 3",
   "language": "python",
   "name": "python3"
  },
  "language_info": {
   "codemirror_mode": {
    "name": "ipython",
    "version": 3
   },
   "file_extension": ".py",
   "mimetype": "text/x-python",
   "name": "python",
   "nbconvert_exporter": "python",
   "pygments_lexer": "ipython3",
   "version": "3.6.3"
  }
 },
 "nbformat": 4,
 "nbformat_minor": 2
}
