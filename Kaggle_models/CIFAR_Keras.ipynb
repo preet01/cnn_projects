{
 "cells": [
  {
   "cell_type": "code",
   "execution_count": 1,
   "metadata": {},
   "outputs": [
    {
     "name": "stderr",
     "output_type": "stream",
     "text": [
      "/home/paperspace/anaconda3/lib/python3.6/site-packages/h5py/__init__.py:36: FutureWarning: Conversion of the second argument of issubdtype from `float` to `np.floating` is deprecated. In future, it will be treated as `np.float64 == np.dtype(float).type`.\n",
      "  from ._conv import register_converters as _register_converters\n",
      "Using TensorFlow backend.\n"
     ]
    }
   ],
   "source": [
    "from data_utils import get_CIFAR10_data\n",
    "from tensorflow.python.keras.models import Sequential\n",
    "from tensorflow.python.keras.layers import InputLayer,Input\n",
    "from tensorflow.python.keras.layers import Reshape,MaxPooling2D\n",
    "from tensorflow.python.keras.layers import Conv2D,Dense,Flatten\n",
    "\n",
    "from keras.utils import to_categorical\n",
    "import matplotlib.pyplot as plt\n",
    "import numpy as np"
   ]
  },
  {
   "cell_type": "code",
   "execution_count": 2,
   "metadata": {},
   "outputs": [
    {
     "name": "stdout",
     "output_type": "stream",
     "text": [
      "X_train:  (49000, 3, 32, 32)\n",
      "y_train:  (49000,)\n",
      "X_val:  (1000, 3, 32, 32)\n",
      "y_val:  (1000,)\n",
      "X_test:  (1000, 3, 32, 32)\n",
      "y_test:  (1000,)\n"
     ]
    }
   ],
   "source": [
    "# Load the (preprocessed) CIFAR10 data.\n",
    "\n",
    "data = get_CIFAR10_data()\n",
    "for k, v in data.items():\n",
    "  print('%s: ' % k, v.shape)"
   ]
  },
  {
   "cell_type": "code",
   "execution_count": 3,
   "metadata": {},
   "outputs": [],
   "source": [
    "X_train=data['X_train']\n",
    "y_train=data['y_train']\n",
    "X_val=data['X_val']\n",
    "y_val=data['y_val']\n",
    "X_test=data['X_test']\n",
    "y_test=data['y_test']"
   ]
  },
  {
   "cell_type": "code",
   "execution_count": 4,
   "metadata": {},
   "outputs": [],
   "source": [
    "y_train=to_categorical(data['y_train'],num_classes=10)\n",
    "y_val=to_categorical(data['y_val'],num_classes=10)\n",
    "y_test=to_categorical(data['y_test'],num_classes=10)"
   ]
  },
  {
   "cell_type": "code",
   "execution_count": 5,
   "metadata": {},
   "outputs": [],
   "source": [
    "#normalizing X\n",
    "X_train = X_train.astype('float32')\n",
    "X_val= X_val.astype('float32')\n",
    "X_test = X_test.astype('float32')\n",
    "\n",
    "X_val/=255.0\n",
    "X_train /= 255.0\n",
    "X_test /= 255.0"
   ]
  },
  {
   "cell_type": "code",
   "execution_count": 6,
   "metadata": {},
   "outputs": [],
   "source": [
    "X_train=np.reshape(X_train,(-1,32,32,3))"
   ]
  },
  {
   "cell_type": "code",
   "execution_count": 7,
   "metadata": {},
   "outputs": [],
   "source": [
    "X_val=np.reshape(X_val,(-1,32,32,3))\n",
    "X_test=np.reshape(X_test,(-1,32,32,3))"
   ]
  },
  {
   "cell_type": "code",
   "execution_count": 8,
   "metadata": {},
   "outputs": [],
   "source": [
    "\n",
    "model=Sequential()\n",
    "model.add(InputLayer(input_shape=(X_train.shape[1:])))\n",
    "model.add(Conv2D(kernel_size=5,strides=1,filters=16,padding='same',activation='relu',name='Conv-1'))\n",
    "model.add(MaxPooling2D(pool_size=(2,2),strides=2))\n",
    "model.add(Flatten())\n",
    "model.add(Dense(512,activation='relu',name='dense-1'))\n",
    "model.add(Dense(10,activation='softmax',name='dense-2'))\n"
   ]
  },
  {
   "cell_type": "code",
   "execution_count": null,
   "metadata": {},
   "outputs": [],
   "source": [
    "\n",
    "model=Sequential()\n",
    "model.add(InputLayer(input_shape=(X_train.shape[1:])))\n",
    "model.add(Conv2D(kernel_size=5,strides=1,filters=32,padding='same',activation='relu',name='Conv-1'))\n",
    "model.add(MaxPooling2D(pool_size=(2,2),strides=2))\n",
    "\n",
    "model.add(Conv2D(kernel_size=5,strides=1,filters=64,padding='same',activation='relu',name='Conv-2'))\n",
    "model.add(MaxPooling2D(pool_size=(2,2),strides=2))\n",
    "\n",
    "model.add(Flatten())\n",
    "\n",
    "model.add(Dense(1024,activation='relu',name='dense-1'))\n",
    "model.add(Dense(10,activation='softmax',name='dense-2'))\n"
   ]
  },
  {
   "cell_type": "code",
   "execution_count": 9,
   "metadata": {},
   "outputs": [
    {
     "name": "stdout",
     "output_type": "stream",
     "text": [
      "_________________________________________________________________\n",
      "Layer (type)                 Output Shape              Param #   \n",
      "=================================================================\n",
      "input_1 (InputLayer)         (None, 32, 32, 3)         0         \n",
      "_________________________________________________________________\n",
      "Conv-1 (Conv2D)              (None, 32, 32, 16)        1216      \n",
      "_________________________________________________________________\n",
      "max_pooling2d_1 (MaxPooling2 (None, 16, 16, 16)        0         \n",
      "_________________________________________________________________\n",
      "flatten_1 (Flatten)          (None, 4096)              0         \n",
      "_________________________________________________________________\n",
      "dense-1 (Dense)              (None, 512)               2097664   \n",
      "_________________________________________________________________\n",
      "dense-2 (Dense)              (None, 10)                5130      \n",
      "=================================================================\n",
      "Total params: 2,104,010\n",
      "Trainable params: 2,104,010\n",
      "Non-trainable params: 0\n",
      "_________________________________________________________________\n"
     ]
    }
   ],
   "source": [
    "model.summary()"
   ]
  },
  {
   "cell_type": "code",
   "execution_count": 10,
   "metadata": {},
   "outputs": [
    {
     "data": {
      "text/plain": [
       "(49000, 32, 32, 3)"
      ]
     },
     "execution_count": 10,
     "metadata": {},
     "output_type": "execute_result"
    }
   ],
   "source": [
    "X_train.shape"
   ]
  },
  {
   "cell_type": "code",
   "execution_count": 11,
   "metadata": {},
   "outputs": [],
   "source": [
    "from tensorflow.python.keras.optimizers import Adam\n",
    "optimizer=Adam(lr=1e-4,decay=1e-6)\n",
    "model.compile(optimizer=optimizer,loss='categorical_crossentropy',metrics=['accuracy'])"
   ]
  },
  {
   "cell_type": "code",
   "execution_count": 129,
   "metadata": {},
   "outputs": [
    {
     "name": "stdout",
     "output_type": "stream",
     "text": [
      "Epoch 1/5\n",
      "49000/49000 [==============================]49000/49000 [==============================] - 81s 2ms/step - loss: 2.1355 - acc: 0.2329\n",
      "\n",
      "Epoch 2/5\n",
      "49000/49000 [==============================]49000/49000 [==============================] - 79s 2ms/step - loss: 1.9616 - acc: 0.2974\n",
      "\n",
      "Epoch 3/5\n",
      "49000/49000 [==============================]49000/49000 [==============================] - 97s 2ms/step - loss: 1.8943 - acc: 0.3262\n",
      "\n",
      "Epoch 4/5\n",
      "49000/49000 [==============================]49000/49000 [==============================] - 91s 2ms/step - loss: 1.8249 - acc: 0.3543\n",
      "\n",
      "Epoch 5/5\n",
      "49000/49000 [==============================]49000/49000 [==============================] - 80s 2ms/step - loss: 1.7669 - acc: 0.3706\n",
      "\n"
     ]
    },
    {
     "data": {
      "text/plain": [
       "<tensorflow.python.keras._impl.keras.callbacks.History at 0x7fa7bed60390>"
      ]
     },
     "execution_count": 129,
     "metadata": {},
     "output_type": "execute_result"
    }
   ],
   "source": [
    "model.fit(x=X_train,y=y_train,num_classes=10,epochs=5,batch_size=64)"
   ]
  },
  {
   "cell_type": "code",
   "execution_count": 12,
   "metadata": {},
   "outputs": [
    {
     "data": {
      "text/plain": [
       "765"
      ]
     },
     "execution_count": 12,
     "metadata": {},
     "output_type": "execute_result"
    }
   ],
   "source": [
    "\n",
    "data_augmentation=True\n",
    "steps=int(X_train.shape[0]/64)\n",
    "steps"
   ]
  },
  {
   "cell_type": "code",
   "execution_count": 13,
   "metadata": {},
   "outputs": [
    {
     "name": "stdout",
     "output_type": "stream",
     "text": [
      "Using real-time data augmentation.\n",
      "Epoch 1/20\n",
      "765/765 [==============================] - 19s 24ms/step - loss: 1.9060 - acc: 0.3122 - val_loss: 1.6535 - val_acc: 0.4120\n",
      "Epoch 2/20\n",
      "765/765 [==============================] - 15s 20ms/step - loss: 1.7465 - acc: 0.3709 - val_loss: 1.5745 - val_acc: 0.4480\n",
      "Epoch 3/20\n",
      "765/765 [==============================] - 16s 20ms/step - loss: 1.6917 - acc: 0.3952 - val_loss: 1.5270 - val_acc: 0.4850\n",
      "Epoch 4/20\n",
      "765/765 [==============================] - 15s 20ms/step - loss: 1.6443 - acc: 0.4150 - val_loss: 1.4797 - val_acc: 0.4870\n",
      "Epoch 5/20\n",
      "765/765 [==============================] - 16s 20ms/step - loss: 1.6189 - acc: 0.4261 - val_loss: 1.4079 - val_acc: 0.4930\n",
      "Epoch 6/20\n",
      "765/765 [==============================] - 15s 20ms/step - loss: 1.5917 - acc: 0.4357 - val_loss: 1.4286 - val_acc: 0.4960\n",
      "Epoch 7/20\n",
      "765/765 [==============================] - 16s 21ms/step - loss: 1.5684 - acc: 0.4420 - val_loss: 1.3910 - val_acc: 0.5180\n",
      "Epoch 8/20\n",
      "765/765 [==============================] - 16s 20ms/step - loss: 1.5509 - acc: 0.4471 - val_loss: 1.4021 - val_acc: 0.5070\n",
      "Epoch 9/20\n",
      "765/765 [==============================] - 15s 20ms/step - loss: 1.5280 - acc: 0.4570 - val_loss: 1.3761 - val_acc: 0.5150\n",
      "Epoch 10/20\n",
      "765/765 [==============================] - 15s 20ms/step - loss: 1.5162 - acc: 0.4612 - val_loss: 1.3474 - val_acc: 0.5210\n",
      "Epoch 11/20\n",
      "765/765 [==============================] - 15s 20ms/step - loss: 1.4930 - acc: 0.4702 - val_loss: 1.3413 - val_acc: 0.5250\n",
      "Epoch 12/20\n",
      "765/765 [==============================] - 15s 20ms/step - loss: 1.4849 - acc: 0.4739 - val_loss: 1.3280 - val_acc: 0.5340\n",
      "Epoch 13/20\n",
      "765/765 [==============================] - 15s 20ms/step - loss: 1.4686 - acc: 0.4782 - val_loss: 1.3221 - val_acc: 0.5380\n",
      "Epoch 14/20\n",
      "765/765 [==============================] - 16s 20ms/step - loss: 1.4554 - acc: 0.4850 - val_loss: 1.3147 - val_acc: 0.5190\n",
      "Epoch 15/20\n",
      "765/765 [==============================] - 16s 21ms/step - loss: 1.4398 - acc: 0.4899 - val_loss: 1.2864 - val_acc: 0.5480\n",
      "Epoch 16/20\n",
      "765/765 [==============================] - 16s 21ms/step - loss: 1.4280 - acc: 0.4936 - val_loss: 1.3145 - val_acc: 0.5380\n",
      "Epoch 17/20\n",
      "765/765 [==============================] - 15s 20ms/step - loss: 1.4147 - acc: 0.4974 - val_loss: 1.2857 - val_acc: 0.5240\n",
      "Epoch 18/20\n",
      "765/765 [==============================] - 16s 21ms/step - loss: 1.4124 - acc: 0.4999 - val_loss: 1.2581 - val_acc: 0.5500\n",
      "Epoch 19/20\n",
      "765/765 [==============================] - 16s 21ms/step - loss: 1.4005 - acc: 0.5032 - val_loss: 1.2615 - val_acc: 0.5300\n",
      "Epoch 20/20\n",
      "765/765 [==============================] - 15s 20ms/step - loss: 1.3901 - acc: 0.5069 - val_loss: 1.2661 - val_acc: 0.5500\n"
     ]
    }
   ],
   "source": [
    "from keras.preprocessing.image import ImageDataGenerator\n",
    "\n",
    "if not data_augmentation:\n",
    "    print('Not using data augmentation.')\n",
    "    model.fit(x_train, y_train, batch_size=batch_size, epochs=epochs,validation_data=(x_test, y_test),shuffle=True)\n",
    "\n",
    "else:\n",
    "    print('Using real-time data augmentation.')\n",
    "    # This will do preprocessing and realtime data augmentation:\n",
    "    datagen = ImageDataGenerator(\n",
    "        width_shift_range=0.1,  # randomly shift images horizontally (fraction of total width)\n",
    "        height_shift_range=0.1,  # randomly shift images vertically (fraction of total height)\n",
    "        horizontal_flip=True,  # randomly flip images\n",
    "        vertical_flip=False)  # randomly flip images\n",
    "\n",
    "    # Compute quantities required for feature-wise normalization\n",
    "    # (std, mean, and principal components if ZCA whitening is applied).\n",
    "   # IT just computes the new generated images right now.\n",
    "    datagen.fit(X_train)\n",
    "\n",
    "    # Fit the model on the batches generated by datagen.flow().\n",
    "    model.fit_generator(datagen.flow(X_train, y_train,batch_size=64),epochs=20,validation_data=(X_val, y_val),workers=1,\n",
    "                       steps_per_epoch=steps)\n"
   ]
  },
  {
   "cell_type": "code",
   "execution_count": null,
   "metadata": {},
   "outputs": [],
   "source": []
  },
  {
   "cell_type": "code",
   "execution_count": 16,
   "metadata": {},
   "outputs": [
    {
     "name": "stdout",
     "output_type": "stream",
     "text": [
      "Epoch 1/1\n",
      "765/765 [==============================] - 16s 21ms/step - loss: 1.3657 - acc: 0.5175 - val_loss: 1.2413 - val_acc: 0.5600\n"
     ]
    },
    {
     "data": {
      "text/plain": [
       "<tensorflow.python.keras._impl.keras.callbacks.History at 0x7fa75402c710>"
      ]
     },
     "execution_count": 16,
     "metadata": {},
     "output_type": "execute_result"
    }
   ],
   "source": [
    "#since learning is a bit slow. Reinitialized the lr.\n",
    "optimizer=Adam(lr=1e-4,decay=1e-6)\n",
    "model.compile(optimizer=optimizer,loss='categorical_crossentropy',metrics=['accuracy'])\n",
    "model.fit_generator(datagen.flow(X_train, y_train,batch_size=64),epochs=1,validation_data=(X_val, y_val),workers=1,\n",
    "                       steps_per_epoch=steps)\n"
   ]
  },
  {
   "cell_type": "code",
   "execution_count": 161,
   "metadata": {},
   "outputs": [
    {
     "name": "stdout",
     "output_type": "stream",
     "text": [
      "Epoch 1/1\n",
      "765/765 [==============================]765/765 [==============================] - 87s 114ms/step - loss: 1.8510 - acc: 0.3255 - val_loss: 1.6936 - val_acc: 0.4060\n",
      "\n"
     ]
    },
    {
     "data": {
      "text/plain": [
       "<tensorflow.python.keras._impl.keras.callbacks.History at 0x7fa7be167f98>"
      ]
     },
     "execution_count": 161,
     "metadata": {},
     "output_type": "execute_result"
    }
   ],
   "source": [
    "model.fit_generator(datagen.flow(X_train, y_train,batch_size=64),epochs=1,validation_data=(X_val, y_val),workers=1,\n",
    "                       steps_per_epoch=steps)\n"
   ]
  },
  {
   "cell_type": "code",
   "execution_count": 172,
   "metadata": {},
   "outputs": [],
   "source": [
    "import math\n",
    "def plot_conv_weights(weights,input_channel=0):\n",
    "    \n",
    "    w=weights\n",
    "    \n",
    "    w_min=np.min(w)\n",
    "    w_max=np.max(w)\n",
    "    \n",
    "    num_filters=w.shape[3]\n",
    "    \n",
    "    num_grids=math.ceil(math.sqrt(num_filters))\n",
    "    \n",
    "    fig,axes=plt.subplots(num_grids,num_grids)\n",
    "    \n",
    "    for i,ax in enumerate(axes.flat):\n",
    "        if i<num_filters:\n",
    "            img=w[:,:,input_channel,i]\n",
    "            \n",
    "            ax.imshow(img,vmin=w_min,vmax=w_max,interpolation='nearest',cmap='seismic')\n",
    "\n",
    "    ax.set_xticks([])\n",
    "    ax.set_yticks([])\n",
    "    \n",
    "    plt.show()"
   ]
  },
  {
   "cell_type": "code",
   "execution_count": 173,
   "metadata": {
    "collapsed": true
   },
   "outputs": [],
   "source": [
    "layer_conv1=model.layers[1]\n",
    "weights_conv1=layer_conv1.get_weights()[0]"
   ]
  },
  {
   "cell_type": "code",
   "execution_count": 174,
   "metadata": {},
   "outputs": [
    {
     "data": {
      "image/png": "[encoded data removed]",
      "text/plain": [
       "<matplotlib.figure.Figure at 0x7fa7add30fd0>"
      ]
     },
     "metadata": {},
     "output_type": "display_data"
    }
   ],
   "source": [
    "plot_conv_weights(weights_conv1)"
   ]
  },
  {
   "cell_type": "code",
   "execution_count": null,
   "metadata": {
    "collapsed": true
   },
   "outputs": [],
   "source": []
  },
  {
   "cell_type": "code",
   "execution_count": 162,
   "metadata": {},
   "outputs": [
    {
     "name": "stdout",
     "output_type": "stream",
     "text": [
      "1000/1000 [==============================]1000/1000 [==============================] - 1s 580us/step\n",
      "\n",
      "loss:1.6935678024291991,   accuracy:40.6\n"
     ]
    }
   ],
   "source": [
    "accuracy=model.evaluate(x=X_val,y=y_val)\n",
    "print('loss:{},   accuracy:{}'.format(float(accuracy[0]),accuracy[1]*100))"
   ]
  }
 ],
 "metadata": {
  "kernelspec": {
   "display_name": "Python 3",
   "language": "python",
   "name": "python3"
  },
  "language_info": {
   "codemirror_mode": {
    "name": "ipython",
    "version": 3
   },
   "file_extension": ".py",
   "mimetype": "text/x-python",
   "name": "python",
   "nbconvert_exporter": "python",
   "pygments_lexer": "ipython3",
   "version": "3.6.3"
  }
 },
 "nbformat": 4,
 "nbformat_minor": 2
}
