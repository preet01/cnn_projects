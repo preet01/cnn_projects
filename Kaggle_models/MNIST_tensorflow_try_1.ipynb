{
 "cells": [
  {
   "cell_type": "code",
   "execution_count": 2,
   "metadata": {},
   "outputs": [
    {
     "name": "stderr",
     "output_type": "stream",
     "text": [
      "/home/paperspace/anaconda3/lib/python3.6/site-packages/h5py/__init__.py:36: FutureWarning: Conversion of the second argument of issubdtype from `float` to `np.floating` is deprecated. In future, it will be treated as `np.float64 == np.dtype(float).type`.\n",
      "  from ._conv import register_converters as _register_converters\n",
      "Using TensorFlow backend.\n"
     ]
    }
   ],
   "source": [
    "import pandas as pd\n",
    "import numpy as np\n",
    "import matplotlib.pyplot as plt\n",
    "%matplotlib inline\n",
    "from sklearn.model_selection import train_test_split\n",
    "from keras.datasets import mnist\n",
    "\n",
    "import tensorflow as tf\n",
    "import math\n"
   ]
  },
  {
   "cell_type": "code",
   "execution_count": 3,
   "metadata": {},
   "outputs": [
    {
     "name": "stdout",
     "output_type": "stream",
     "text": [
      "Solving environment: done\n",
      "\n",
      "# All requested packages already installed.\n",
      "\n"
     ]
    }
   ],
   "source": [
    "!conda update h5py"
   ]
  },
  {
   "cell_type": "code",
   "execution_count": 4,
   "metadata": {},
   "outputs": [],
   "source": [
    "# train=pd.read_csv('train.csv')\n",
    "# test=pd.read_csv('test.csv')\n",
    "\n",
    "# ytrain=train['label']\n",
    "# xtrain=train.drop(['label'],axis=1)\n"
   ]
  },
  {
   "cell_type": "code",
   "execution_count": 5,
   "metadata": {},
   "outputs": [],
   "source": [
    "(x_train, y_train), (x_test, y_test) = mnist.load_data()"
   ]
  },
  {
   "cell_type": "code",
   "execution_count": 6,
   "metadata": {},
   "outputs": [
    {
     "name": "stdout",
     "output_type": "stream",
     "text": [
      "(60000, 28, 28)\n",
      "(60000,)\n",
      "(10000, 28, 28)\n"
     ]
    }
   ],
   "source": [
    "print(x_train.shape)\n",
    "print(y_train.shape)\n",
    "\n",
    "print(x_test.shape)"
   ]
  },
  {
   "cell_type": "code",
   "execution_count": 7,
   "metadata": {},
   "outputs": [],
   "source": [
    "x_train=x_train.reshape((-1,28,28,1))\n",
    "x_test=x_test.reshape((-1,28,28,1))"
   ]
  },
  {
   "cell_type": "code",
   "execution_count": 8,
   "metadata": {},
   "outputs": [],
   "source": [
    "#rescaling\n",
    "x_train = x_train.astype('float32')\n",
    "x_test = x_test.astype('float32')\n",
    "x_train/=255.0\n",
    "x_test/=255.0"
   ]
  },
  {
   "cell_type": "code",
   "execution_count": null,
   "metadata": {},
   "outputs": [],
   "source": []
  },
  {
   "cell_type": "code",
   "execution_count": 9,
   "metadata": {},
   "outputs": [],
   "source": [
    "xtr,xval,ytr,yval=train_test_split(x_train,y_train,test_size=0.1,random_state=2)#0.3 test size try that too\n",
    "#but this can also cause errors by causing overfitting"
   ]
  },
  {
   "cell_type": "code",
   "execution_count": 10,
   "metadata": {},
   "outputs": [
    {
     "data": {
      "text/plain": [
       "<matplotlib.image.AxesImage at 0x7fd4f3560e10>"
      ]
     },
     "execution_count": 10,
     "metadata": {},
     "output_type": "execute_result"
    },
    {
     "data": {
      "image/png": "[encoded data removed]",
      "text/plain": [
       "<Figure size 432x288 with 1 Axes>"
      ]
     },
     "metadata": {},
     "output_type": "display_data"
    }
   ],
   "source": [
    "plt.imshow(xtr[99][:,:,0])"
   ]
  },
  {
   "cell_type": "code",
   "execution_count": 18,
   "metadata": {},
   "outputs": [],
   "source": [
    "tf.reset_default_graph()\n",
    "\n",
    "\n",
    "X = tf.placeholder(tf.float32, [None, 28, 28, 1])\n",
    "y = tf.placeholder(tf.int64, [None])\n",
    "is_training = tf.placeholder(tf.bool)\n",
    "\n",
    "def mnist_model(X,y,is_training):\n",
    "    \n",
    "    conv1=tf.layers.conv2d(inputs=X,filters=32,kernel_size=[5,5],padding='same',activation=tf.nn.relu)\n",
    "    conv2=tf.layers.conv2d(inputs=conv1,filters=32,kernel_size=[5,5],padding='same',activation=tf.nn.relu)\n",
    "    pool1=tf.layers.max_pooling2d(inputs=conv2,pool_size=[2,2],strides=2)\n",
    "    \n",
    "    layer_flat=tf.contrib.layers.flatten(pool1)\n",
    "    \n",
    "    dense1=tf.contrib.layers.fully_connected(layer_flat,num_outputs=64,activation_fn=tf.nn.relu)#class scores which\n",
    "    \n",
    "    y_out=tf.contrib.layers.fully_connected(dense1,num_outputs=10,activation_fn=None)\n",
    "    \n",
    "    return y_out       \n",
    "    \n",
    "y_out = mnist_model(X,y,is_training)\n",
    "\n",
    "mean_loss = tf.reduce_mean(tf.nn.softmax_cross_entropy_with_logits_v2(labels=(tf.one_hot(y,10)),logits=y_out))\n",
    "#y is the real value and y_out is the predicted\n",
    "\n",
    "#the y_out is a class score converted to 10 outputs which can be processed in to calcualate the softmax loss.\n",
    "#Now the softmax loss and softmax classifier are two really separate things.\n",
    "#this is loss calcualating using correct labels and predictions\n",
    "\n",
    "optimizer=tf.train.RMSPropOptimizer(1e-3)\n",
    "\n",
    "train_step=optimizer.minimize(mean_loss)#gradient changes are performed with this\n",
    "\n",
    "extra_update_ops = tf.get_collection(tf.GraphKeys.UPDATE_OPS)\n",
    "with tf.control_dependencies(extra_update_ops):\n",
    "    train_step = optimizer.minimize(mean_loss)\n"
   ]
  },
  {
   "cell_type": "code",
   "execution_count": 19,
   "metadata": {},
   "outputs": [],
   "source": [
    "def run_model(session,predict,loss_val,Xd,yd,epochs=1,batch_size=64,print_every=100,training=None,plot_losses=False):\n",
    "    \n",
    "    correct_prediction = tf.equal(tf.argmax(predict,1), y)\n",
    "    prediction=tf.argmax(predict,1)\n",
    "    accuracy = tf.reduce_mean(tf.cast(correct_prediction, tf.float32))\n",
    "    \n",
    "    # shuffle indicies\n",
    "    train_indicies = np.arange(Xd.shape[0])\n",
    "    np.random.shuffle(train_indicies)\n",
    "\n",
    "    training_now = training is not None\n",
    "    \n",
    "    # setting up variables we want to compute (and optimizing)\n",
    "    # if we have a training function, add that to things we compute\n",
    "    #variables = [mean_loss,correct_prediction,accuracy]\n",
    "    variables = [mean_loss,correct_prediction,prediction]\n",
    "    \n",
    "    if training_now:\n",
    "        variables[-1] = training\n",
    "    \n",
    "    # counter \n",
    "    iter_cnt = 0\n",
    "    for e in range(epochs):\n",
    "        # keep track of losses and accuracy\n",
    "        correct = 0\n",
    "        losses = []\n",
    "        y_pred= []\n",
    "        # make sure we iterate over the dataset once\n",
    "        for i in range(int(math.ceil(Xd.shape[0]/batch_size))):\n",
    "            # generate indicies for the batch\n",
    "            start_idx = (i*batch_size)%Xd.shape[0]\n",
    "            idx = train_indicies[start_idx:start_idx+batch_size]\n",
    "            \n",
    "            # create a feed dictionary for this batch\n",
    "            feed_dict = {X: Xd[idx,:],\n",
    "                         y: yd[idx],\n",
    "                         is_training: training_now }\n",
    "            # get batch size\n",
    "            actual_batch_size = yd[idx].shape[0]\n",
    "            \n",
    "            # have tensorflow compute loss and correct predictions\n",
    "            # and (if given) perform a training step\n",
    "            loss, corr, prediction = session.run(variables,feed_dict=feed_dict)\n",
    "            \n",
    "            # aggregate performance stats\n",
    "            losses.append(loss*actual_batch_size)\n",
    "            y_pred.append(prediction)\n",
    "            correct += np.sum(corr)\n",
    "            \n",
    "            # print every now and then\n",
    "            if training_now and (iter_cnt % print_every) == 0:\n",
    "                print(\"Iteration {0}: with minibatch training loss = {1:.3g} and accuracy of {2:.2g}\"\\\n",
    "                      .format(iter_cnt,loss,np.sum(corr)/actual_batch_size))\n",
    "            iter_cnt += 1\n",
    "        total_correct = correct/Xd.shape[0]\n",
    "        total_loss = np.sum(losses)/Xd.shape[0]\n",
    "        print(\"Epoch {2}, Overall loss = {0:.3g} and accuracy of {1:.3g}\"\\\n",
    "              .format(total_loss,total_correct,e+1))\n",
    "        if plot_losses:\n",
    "            plt.plot(losses)\n",
    "            plt.grid(True)\n",
    "            plt.title('Epoch {} Loss'.format(e+1))\n",
    "            plt.xlabel('minibatch number')\n",
    "            plt.ylabel('minibatch loss')\n",
    "            plt.show()\n",
    "    return total_loss,total_correct,y_pred\n",
    "            \n",
    "            \n",
    "    \n",
    "    "
   ]
  },
  {
   "cell_type": "code",
   "execution_count": 20,
   "metadata": {},
   "outputs": [
    {
     "name": "stdout",
     "output_type": "stream",
     "text": [
      "training\n",
      "Iteration 0: with minibatch training loss = 2.31 and accuracy of 0.062\n",
      "Iteration 200: with minibatch training loss = 0.181 and accuracy of 0.94\n",
      "Iteration 400: with minibatch training loss = 0.171 and accuracy of 0.97\n",
      "Iteration 600: with minibatch training loss = 0.0125 and accuracy of 1\n",
      "Iteration 800: with minibatch training loss = 0.0543 and accuracy of 0.98\n",
      "Epoch 1, Overall loss = 0.349 and accuracy of 0.884\n",
      "Iteration 1000: with minibatch training loss = 0.227 and accuracy of 0.98\n",
      "Iteration 1200: with minibatch training loss = 0.0813 and accuracy of 0.98\n",
      "Iteration 1400: with minibatch training loss = 0.00573 and accuracy of 1\n",
      "Iteration 1600: with minibatch training loss = 0.00103 and accuracy of 1\n",
      "Epoch 2, Overall loss = 0.0437 and accuracy of 0.987\n",
      "Iteration 1800: with minibatch training loss = 0.0378 and accuracy of 0.98\n",
      "Iteration 2000: with minibatch training loss = 0.00953 and accuracy of 1\n",
      "Iteration 2200: with minibatch training loss = 0.0327 and accuracy of 0.98\n",
      "Iteration 2400: with minibatch training loss = 0.0217 and accuracy of 0.98\n",
      "Epoch 3, Overall loss = 0.0279 and accuracy of 0.992\n",
      "Iteration 2600: with minibatch training loss = 0.00737 and accuracy of 1\n",
      "Iteration 2800: with minibatch training loss = 0.00144 and accuracy of 1\n",
      "Iteration 3000: with minibatch training loss = 0.135 and accuracy of 0.98\n",
      "Iteration 3200: with minibatch training loss = 0.0128 and accuracy of 1\n",
      "Epoch 4, Overall loss = 0.0196 and accuracy of 0.995\n",
      "Iteration 3400: with minibatch training loss = 8.66e-05 and accuracy of 1\n",
      "Iteration 3600: with minibatch training loss = 0.00316 and accuracy of 1\n",
      "Iteration 3800: with minibatch training loss = 0.00219 and accuracy of 1\n",
      "Iteration 4000: with minibatch training loss = 6.48e-05 and accuracy of 1\n",
      "Iteration 4200: with minibatch training loss = 0.000286 and accuracy of 1\n",
      "Epoch 5, Overall loss = 0.0141 and accuracy of 0.997\n"
     ]
    }
   ],
   "source": [
    "sess=tf.Session()\n",
    "sess.run(tf.global_variables_initializer())\n",
    "\n",
    "print(\"training\")\n",
    "_,_,_=run_model(sess,y_out,mean_loss,xtr,ytr,5,64,200,train_step)\n",
    "\n",
    "        "
   ]
  },
  {
   "cell_type": "code",
   "execution_count": 21,
   "metadata": {},
   "outputs": [
    {
     "name": "stdout",
     "output_type": "stream",
     "text": [
      "validation\n",
      "Epoch 1, Overall loss = 0.0495 and accuracy of 0.99\n"
     ]
    }
   ],
   "source": [
    "\n",
    "print(\"validation\")\n",
    "_,_,_=run_model(sess,y_out,mean_loss,xval,yval,1,64)"
   ]
  },
  {
   "cell_type": "code",
   "execution_count": 22,
   "metadata": {},
   "outputs": [
    {
     "name": "stdout",
     "output_type": "stream",
     "text": [
      "testing\n",
      "Epoch 1, Overall loss = 0.0403 and accuracy of 0.99\n"
     ]
    }
   ],
   "source": [
    "\n",
    "print(\"testing\")\n",
    "_,_,y_pred=run_model(sess,y_out,mean_loss,x_test,y_test,1,64)\n",
    "    "
   ]
  },
  {
   "cell_type": "code",
   "execution_count": null,
   "metadata": {
    "collapsed": true
   },
   "outputs": [],
   "source": []
  }
 ],
 "metadata": {
  "kernelspec": {
   "display_name": "Python 3",
   "language": "python",
   "name": "python3"
  },
  "language_info": {
   "codemirror_mode": {
    "name": "ipython",
    "version": 3
   },
   "file_extension": ".py",
   "mimetype": "text/x-python",
   "name": "python",
   "nbconvert_exporter": "python",
   "pygments_lexer": "ipython3",
   "version": "3.6.3"
  }
 },
 "nbformat": 4,
 "nbformat_minor": 2
}
